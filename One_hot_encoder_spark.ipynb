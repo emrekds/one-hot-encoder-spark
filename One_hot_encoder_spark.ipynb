{
 "cells": [
  {
   "cell_type": "code",
   "execution_count": 7,
   "id": "c8c66d65",
   "metadata": {},
   "outputs": [],
   "source": [
    "class OneHotEncoder:\n",
    "    def __init__(self):\n",
    "        from pyspark.sql import SparkSession\n",
    "        spark = SparkSession.builder.getOrCreate()\n",
    "        \n"
   ]
  },
  {
   "cell_type": "code",
   "execution_count": null,
   "id": "d6163c52-28de-4847-a4b1-06541164df89",
   "metadata": {},
   "outputs": [],
   "source": [
    "def one_hot_encoder(dataframe,drop_last=True,drop_categoric=True):\n",
    "    df=dataframe\n",
    "    categoric_columns=[col[0] for col in df.dtypes if col[1].startswith('str')]\n",
    "    for i in categoric_columns:\n",
    "        uniques=list(df.select(i).distinct().toPandas()[i].unique())\n",
    "        if drop_last:\n",
    "            uniques=uniques[:-1]\n",
    "        for j in uniques:\n",
    "            new_column_ = when(col(i)==j,1).otherwise(0)\n",
    "            df=df.withColumn(f'{i}_{j}',new_column_)\n",
    "        if drop_categoric:\n",
    "            df=df.drop(i)\n",
    "    return df"
   ]
  },
  {
   "cell_type": "code",
   "execution_count": null,
   "id": "32ab9904",
   "metadata": {},
   "outputs": [],
   "source": []
  }
 ],
 "metadata": {
  "kernelspec": {
   "display_name": "Python 3 (ipykernel)",
   "language": "python",
   "name": "python3"
  },
  "language_info": {
   "codemirror_mode": {
    "name": "ipython",
    "version": 3
   },
   "file_extension": ".py",
   "mimetype": "text/x-python",
   "name": "python",
   "nbconvert_exporter": "python",
   "pygments_lexer": "ipython3",
   "version": "3.9.7"
  }
 },
 "nbformat": 4,
 "nbformat_minor": 5
}
